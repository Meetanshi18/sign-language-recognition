{
 "cells": [
  {
   "cell_type": "code",
   "execution_count": 1,
   "metadata": {},
   "outputs": [
    {
     "name": "stderr",
     "output_type": "stream",
     "text": [
      "Using TensorFlow backend.\n"
     ]
    },
    {
     "name": "stdout",
     "output_type": "stream",
     "text": [
      "Training examples: 27455\n",
      "Test examples: 7172\n",
      "X_train shape\" (27455, 28, 28)\n",
      "y_train shape\" (27455, 25)\n",
      "X_test shape\" (7172, 28, 28)\n",
      "y_test shape\" (7172, 25)\n",
      "(27455, 28, 28, 1)\n",
      "(27455, 25)\n"
     ]
    }
   ],
   "source": [
    "import pandas as pd\n",
    "import numpy as np\n",
    "from keras.utils import to_categorical\n",
    "\n",
    "train = pd.read_csv('C:/Users/meeta/Desktop/TSWE2019/sign-language-recognition/dataset/sign_mnist_train.csv', header = 0)\n",
    "test = pd.read_csv('C:/Users/meeta/Desktop/TSWE2019/sign-language-recognition/dataset/sign_mnist_test.csv', header = 0)\n",
    "\n",
    "y_train = train['label'].values\n",
    "y_test = test['label'].values\n",
    "\n",
    "x_train = train.drop(['label'],axis=1)\n",
    "x_test = test.drop(['label'], axis=1)\n",
    "\n",
    "x_train = np.array(x_train.iloc[:,:])\n",
    "# print(x_train[:5])\n",
    "x_train = np.array([np.reshape(i, (28, 28)) for i in x_train])\n",
    "\n",
    "x_test = np.array(x_test.iloc[:,:])\n",
    "x_test = np.array([np.reshape(i, (28, 28)) for i in x_test])\n",
    "# print(x_test[0])\n",
    "\n",
    "x_train = x_train/255\n",
    "x_test = x_test/255\n",
    "y_train = to_categorical(y_train)\n",
    "y_test = to_categorical(y_test)\n",
    "\n",
    "\n",
    "print('Training examples:',x_train.shape[0])\n",
    "print('Test examples:',x_test.shape[0])\n",
    "\n",
    "print('X_train shape\"',x_train.shape)\n",
    "print('y_train shape\"',y_train.shape)\n",
    "print('X_test shape\"',x_test.shape)\n",
    "print('y_test shape\"',y_test.shape)\n",
    "\n",
    "x_train = x_train.reshape((27455, 28, 28, 1))\n",
    "x_test = x_test.reshape((7172, 28, 28, 1))\n",
    "\n",
    "print(x_train.shape)\n",
    "print(y_train.shape)\n",
    "# print(x_train[:3])\n",
    "# print(y_train[:3])"
   ]
  },
  {
   "cell_type": "code",
   "execution_count": 2,
   "metadata": {},
   "outputs": [],
   "source": [
    "from keras.models import Sequential\n",
    "from keras.layers import Convolution2D as Conv2D\n",
    "from keras.layers import MaxPooling2D\n",
    "from keras.layers import Flatten\n",
    "from keras.layers import Dense\n",
    "from IPython.display import SVG\n",
    "from keras.utils.vis_utils import model_to_dot\n",
    "import pydot"
   ]
  },
  {
   "cell_type": "code",
   "execution_count": 3,
   "metadata": {},
   "outputs": [],
   "source": [
    "def generateModel():    \n",
    "    model = Sequential()\n",
    "    model.add(Conv2D(filters = 32,kernel_size = (3,3),input_shape = (28,28,1),activation = 'relu',padding = 'same'))\n",
    "    model.add(MaxPooling2D((2,2)))\n",
    "    model.add(Conv2D(filters = 64,kernel_size = (3,3),padding = 'same',activation = 'relu'))\n",
    "    model.add(MaxPooling2D(2,2))\n",
    "    model.add(Conv2D(64,kernel_size = (3,3),padding = 'same',activation = 'relu'))\n",
    "    model.add(Flatten())\n",
    "    model.add(Dense(64,activation = 'relu'))\n",
    "    model.add(Dense(25,activation = 'softmax'))\n",
    "    model.compile(optimizer='adam', loss='categorical_crossentropy', metrics=['accuracy'])\n",
    "    return model"
   ]
  },
  {
   "cell_type": "code",
   "execution_count": 4,
   "metadata": {},
   "outputs": [
    {
     "name": "stdout",
     "output_type": "stream",
     "text": [
      "WARNING:tensorflow:From c:\\users\\meeta\\appdata\\local\\programs\\python\\python37\\lib\\site-packages\\tensorflow\\python\\framework\\op_def_library.py:263: colocate_with (from tensorflow.python.framework.ops) is deprecated and will be removed in a future version.\n",
      "Instructions for updating:\n",
      "Colocations handled automatically by placer.\n"
     ]
    }
   ],
   "source": [
    "classifier = generateModel()"
   ]
  },
  {
   "cell_type": "code",
   "execution_count": 5,
   "metadata": {},
   "outputs": [
    {
     "name": "stdout",
     "output_type": "stream",
     "text": [
      "_________________________________________________________________\n",
      "Layer (type)                 Output Shape              Param #   \n",
      "=================================================================\n",
      "conv2d_1 (Conv2D)            (None, 28, 28, 32)        320       \n",
      "_________________________________________________________________\n",
      "max_pooling2d_1 (MaxPooling2 (None, 14, 14, 32)        0         \n",
      "_________________________________________________________________\n",
      "conv2d_2 (Conv2D)            (None, 14, 14, 64)        18496     \n",
      "_________________________________________________________________\n",
      "max_pooling2d_2 (MaxPooling2 (None, 7, 7, 64)          0         \n",
      "_________________________________________________________________\n",
      "conv2d_3 (Conv2D)            (None, 7, 7, 64)          36928     \n",
      "_________________________________________________________________\n",
      "flatten_1 (Flatten)          (None, 3136)              0         \n",
      "_________________________________________________________________\n",
      "dense_1 (Dense)              (None, 64)                200768    \n",
      "_________________________________________________________________\n",
      "dense_2 (Dense)              (None, 25)                1625      \n",
      "=================================================================\n",
      "Total params: 258,137\n",
      "Trainable params: 258,137\n",
      "Non-trainable params: 0\n",
      "_________________________________________________________________\n"
     ]
    }
   ],
   "source": [
    "classifier.summary()"
   ]
  },
  {
   "cell_type": "code",
   "execution_count": 6,
   "metadata": {},
   "outputs": [
    {
     "data": {
      "text/plain": [
       "(25,)"
      ]
     },
     "execution_count": 6,
     "metadata": {},
     "output_type": "execute_result"
    }
   ],
   "source": [
    "y_train[0].shape"
   ]
  },
  {
   "cell_type": "code",
   "execution_count": 7,
   "metadata": {},
   "outputs": [],
   "source": [
    "from keras.callbacks import TensorBoard\n",
    "\n",
    "tensorboard = TensorBoard(log_dir = 'logs/SLR classifier')"
   ]
  },
  {
   "cell_type": "code",
   "execution_count": null,
   "metadata": {},
   "outputs": [],
   "source": []
  },
  {
   "cell_type": "code",
   "execution_count": 8,
   "metadata": {},
   "outputs": [
    {
     "name": "stdout",
     "output_type": "stream",
     "text": [
      "WARNING:tensorflow:From c:\\users\\meeta\\appdata\\local\\programs\\python\\python37\\lib\\site-packages\\tensorflow\\python\\ops\\math_ops.py:3066: to_int32 (from tensorflow.python.ops.math_ops) is deprecated and will be removed in a future version.\n",
      "Instructions for updating:\n",
      "Use tf.cast instead.\n",
      "Epoch 1/10\n",
      "27455/27455 [==============================] - 50s 2ms/step - loss: 1.5862 - acc: 0.5189\n",
      "Epoch 2/10\n",
      "27455/27455 [==============================] - 51s 2ms/step - loss: 0.2612 - acc: 0.9198: 5s - loss: 0. - ETA: 2s - loss: 0.2678 - acc: 0.917 - ETA: 2s - loss: 0.2671 \n",
      "Epoch 3/10\n",
      "27455/27455 [==============================] - 48s 2ms/step - loss: 0.0679 - acc: 0.9836\n",
      "Epoch 4/10\n",
      "27455/27455 [==============================] - 49s 2ms/step - loss: 0.0230 - acc: 0.9961\n",
      "Epoch 5/10\n",
      "27455/27455 [==============================] - 52s 2ms/step - loss: 0.0110 - acc: 0.9981\n",
      "Epoch 6/10\n",
      "27455/27455 [==============================] - 49s 2ms/step - loss: 0.0039 - acc: 0.9996: 7s - l - ETA: 2s - loss: 0.0038 - a - ETA: 0s - loss: 0.0039 - acc: 0\n",
      "Epoch 7/10\n",
      "27455/27455 [==============================] - 50s 2ms/step - loss: 0.0149 - acc: 0.9958\n",
      "Epoch 8/10\n",
      "27455/27455 [==============================] - 49s 2ms/step - loss: 0.0193 - acc: 0.9945\n",
      "Epoch 9/10\n",
      "27455/27455 [==============================] - 49s 2ms/step - loss: 9.3369e-04 - acc: 1.0000\n",
      "Epoch 10/10\n",
      "27455/27455 [==============================] - 49s 2ms/step - loss: 4.8094e-04 - acc: 1.0000\n"
     ]
    },
    {
     "data": {
      "text/plain": [
       "<keras.callbacks.History at 0x1e2274dc1d0>"
      ]
     },
     "execution_count": 8,
     "metadata": {},
     "output_type": "execute_result"
    }
   ],
   "source": [
    "classifier.fit(x_train, y_train, batch_size = 100, epochs = 10, callbacks = [tensorboard])"
   ]
  },
  {
   "cell_type": "code",
   "execution_count": 9,
   "metadata": {},
   "outputs": [],
   "source": [
    "# from sklearn.externals import joblib\n",
    "# joblib.dump(classifier, 'saved_classifier.pkl')"
   ]
  },
  {
   "cell_type": "code",
   "execution_count": 10,
   "metadata": {},
   "outputs": [],
   "source": [
    "y_prediction = classifier.predict(x_test)"
   ]
  },
  {
   "cell_type": "code",
   "execution_count": 11,
   "metadata": {},
   "outputs": [
    {
     "data": {
      "text/plain": [
       "array([[0.00000000e+00, 8.83541783e-22, 2.77994232e-08, 2.95541918e-16,\n",
       "        8.66550392e-25, 1.21153487e-09, 1.00000000e+00, 2.34099133e-15,\n",
       "        1.15145934e-21, 0.00000000e+00, 5.68116533e-29, 1.93073646e-08,\n",
       "        1.38228525e-30, 6.39850791e-28, 1.45430204e-13, 8.93344412e-19,\n",
       "        3.07634880e-18, 6.49761900e-25, 3.49560701e-22, 4.29407811e-12,\n",
       "        1.10390071e-23, 4.45199938e-18, 2.27062338e-20, 1.87279024e-16,\n",
       "        2.62962070e-21],\n",
       "       [5.23479099e-26, 2.25798278e-08, 7.26495827e-19, 1.46862002e-11,\n",
       "        2.48317700e-10, 9.99814928e-01, 1.08736324e-18, 9.02107174e-24,\n",
       "        1.85040379e-04, 0.00000000e+00, 9.36524358e-22, 1.28420214e-18,\n",
       "        3.56316235e-12, 2.10289386e-08, 2.06119030e-15, 7.37630860e-16,\n",
       "        1.01946190e-20, 4.77545658e-23, 3.11980858e-11, 4.08378574e-11,\n",
       "        3.48093186e-17, 2.79076961e-19, 4.56485544e-11, 1.43113403e-11,\n",
       "        1.21048114e-17],\n",
       "       [0.00000000e+00, 5.47586276e-28, 0.00000000e+00, 4.19347401e-08,\n",
       "        0.00000000e+00, 1.24494577e-27, 3.82793799e-26, 1.32684141e-27,\n",
       "        4.27447298e-22, 0.00000000e+00, 9.99997139e-01, 2.16963674e-08,\n",
       "        2.95238653e-34, 1.97669080e-30, 0.00000000e+00, 1.66202028e-24,\n",
       "        8.73345194e-23, 2.89668242e-06, 2.44552005e-22, 1.11404679e-22,\n",
       "        3.98022830e-11, 4.31491336e-11, 2.85133972e-20, 3.66502228e-12,\n",
       "        8.56032737e-21],\n",
       "       [9.99891400e-01, 4.26200332e-38, 3.02874499e-23, 0.00000000e+00,\n",
       "        2.13633053e-13, 9.63108446e-26, 0.00000000e+00, 0.00000000e+00,\n",
       "        1.04860662e-12, 0.00000000e+00, 0.00000000e+00, 0.00000000e+00,\n",
       "        1.39752171e-06, 1.07189022e-04, 2.27747854e-22, 0.00000000e+00,\n",
       "        6.99949076e-37, 0.00000000e+00, 9.43347158e-16, 0.00000000e+00,\n",
       "        0.00000000e+00, 0.00000000e+00, 7.41100476e-30, 5.50833408e-31,\n",
       "        7.65517774e-32],\n",
       "       [0.00000000e+00, 2.02166597e-21, 1.65768138e-37, 9.95671034e-01,\n",
       "        1.06695426e-35, 2.58262198e-31, 4.62013526e-17, 2.26383390e-18,\n",
       "        8.61149342e-23, 0.00000000e+00, 1.09228026e-07, 4.65265456e-12,\n",
       "        1.97228151e-29, 5.07761411e-17, 0.00000000e+00, 3.59075307e-21,\n",
       "        6.53000932e-19, 4.32862248e-03, 3.40045593e-24, 9.84643619e-20,\n",
       "        2.17633939e-07, 8.82051043e-10, 1.94856833e-21, 3.06766955e-13,\n",
       "        3.09537706e-20]], dtype=float32)"
      ]
     },
     "execution_count": 11,
     "metadata": {},
     "output_type": "execute_result"
    }
   ],
   "source": [
    "y_prediction[:5]"
   ]
  },
  {
   "cell_type": "code",
   "execution_count": 12,
   "metadata": {},
   "outputs": [
    {
     "name": "stdout",
     "output_type": "stream",
     "text": [
      "2\n"
     ]
    }
   ],
   "source": [
    "import matplotlib.pyplot as plt\n",
    "LOC = 20\n",
    "sample = x_test[LOC]\n",
    "plt.imshow(sample.reshape((28,28)))\n",
    "lbl = y_test[LOC]\n",
    "print(list(lbl).index(1))"
   ]
  },
  {
   "cell_type": "code",
   "execution_count": 13,
   "metadata": {},
   "outputs": [
    {
     "name": "stdout",
     "output_type": "stream",
     "text": [
      "[0.0, 1.0861544e-19, 1.0, 0.0, 4.841752e-18, 1.387792e-13, 3.1413952e-18, 3.190512e-33, 2.1623222e-38, 0.0, 0.0, 4.728454e-19, 0.0, 0.0, 1.924126e-16, 1.4170718e-34, 0.0, 0.0, 6.969598e-25, 4.8848416e-28, 0.0, 0.0, 1.8180733e-32, 7.978259e-32, 0.0]\n"
     ]
    }
   ],
   "source": [
    "sample = sample.reshape((1,28,28,1))\n",
    "res = classifier.predict(sample)\n",
    "res = list(res[0])\n",
    "print(res)"
   ]
  },
  {
   "cell_type": "code",
   "execution_count": 14,
   "metadata": {},
   "outputs": [
    {
     "name": "stdout",
     "output_type": "stream",
     "text": [
      "2\n"
     ]
    }
   ],
   "source": [
    "mx = max(res)\n",
    "print(res.index(mx))"
   ]
  },
  {
   "cell_type": "code",
   "execution_count": null,
   "metadata": {},
   "outputs": [],
   "source": []
  }
 ],
 "metadata": {
  "kernelspec": {
   "display_name": "Python 3",
   "language": "python",
   "name": "python3"
  },
  "language_info": {
   "codemirror_mode": {
    "name": "ipython",
    "version": 3
   },
   "file_extension": ".py",
   "mimetype": "text/x-python",
   "name": "python",
   "nbconvert_exporter": "python",
   "pygments_lexer": "ipython3",
   "version": "3.7.3"
  }
 },
 "nbformat": 4,
 "nbformat_minor": 2
}
