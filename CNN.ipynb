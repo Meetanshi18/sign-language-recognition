{
 "cells": [
  {
   "cell_type": "code",
   "execution_count": 11,
   "metadata": {},
   "outputs": [
    {
     "name": "stdout",
     "output_type": "stream",
     "text": [
      "Training examples: 27455\n",
      "Test examples: 7172\n",
      "X_train shape\" (27455, 28, 28)\n",
      "y_train shape\" (27455, 25)\n",
      "X_test shape\" (7172, 28, 28)\n",
      "y_test shape\" (7172, 25)\n",
      "(27455, 28, 28, 1)\n",
      "(27455, 25)\n"
     ]
    }
   ],
   "source": [
    "import pandas as pd\n",
    "import numpy as np\n",
    "from keras.utils import to_categorical\n",
    "\n",
    "train = pd.read_csv('C:/Users/meeta/Desktop/TSWE2019/sign-language-recognition/dataset/sign_mnist_train.csv', header = 0)\n",
    "test = pd.read_csv('C:/Users/meeta/Desktop/TSWE2019/sign-language-recognition/dataset/sign_mnist_test.csv', header = 0)\n",
    "\n",
    "y_train = train['label'].values\n",
    "y_test = test['label'].values\n",
    "\n",
    "x_train = train.drop(['label'],axis=1)\n",
    "x_test = test.drop(['label'], axis=1)\n",
    "\n",
    "x_train = np.array(x_train.iloc[:,:])\n",
    "# print(x_train[:5])\n",
    "x_train = np.array([np.reshape(i, (28, 28)) for i in x_train])\n",
    "\n",
    "x_test = np.array(x_test.iloc[:,:])\n",
    "x_test = np.array([np.reshape(i, (28, 28)) for i in x_test])\n",
    "# print(x_test[0])\n",
    "\n",
    "x_train = x_train/255\n",
    "x_test = x_test/255\n",
    "y_train = to_categorical(y_train)\n",
    "y_test = to_categorical(y_test)\n",
    "\n",
    "\n",
    "print('Training examples:',x_train.shape[0])\n",
    "print('Test examples:',x_test.shape[0])\n",
    "\n",
    "print('X_train shape\"',x_train.shape)\n",
    "print('y_train shape\"',y_train.shape)\n",
    "print('X_test shape\"',x_test.shape)\n",
    "print('y_test shape\"',y_test.shape)\n",
    "\n",
    "x_train = x_train.reshape((27455, 28, 28, 1))\n",
    "x_test = x_test.reshape((7172, 28, 28, 1))\n",
    "\n",
    "print(x_train.shape)\n",
    "print(y_train.shape)\n",
    "# print(x_train[:3])\n",
    "# print(y_train[:3])"
   ]
  },
  {
   "cell_type": "code",
   "execution_count": 12,
   "metadata": {},
   "outputs": [],
   "source": [
    "from keras.models import Sequential\n",
    "from keras.layers import Convolution2D as Conv2D\n",
    "from keras.layers import MaxPooling2D\n",
    "from keras.layers import Flatten\n",
    "from keras.layers import Dense\n",
    "from IPython.display import SVG\n",
    "from keras.utils.vis_utils import model_to_dot\n",
    "import pydot"
   ]
  },
  {
   "cell_type": "code",
   "execution_count": 13,
   "metadata": {},
   "outputs": [],
   "source": [
    "def generateModel():    \n",
    "    model = Sequential()\n",
    "    model.add(Conv2D(filters = 32,kernel_size = (3,3),input_shape = (28,28,1),activation = 'relu',padding = 'same'))\n",
    "    model.add(MaxPooling2D((2,2)))\n",
    "    model.add(Conv2D(filters = 64,kernel_size = (3,3),padding = 'same',activation = 'relu'))\n",
    "    model.add(MaxPooling2D(2,2))\n",
    "    model.add(Conv2D(64,kernel_size = (3,3),padding = 'same',activation = 'relu'))\n",
    "    model.add(Flatten())\n",
    "    model.add(Dense(64,activation = 'relu'))\n",
    "    model.add(Dense(25,activation = 'softmax'))\n",
    "    model.compile(optimizer='adam', loss='categorical_crossentropy', metrics=['accuracy'])\n",
    "    return model"
   ]
  },
  {
   "cell_type": "code",
   "execution_count": 14,
   "metadata": {},
   "outputs": [],
   "source": [
    "classifier = generateModel()"
   ]
  },
  {
   "cell_type": "code",
   "execution_count": 15,
   "metadata": {},
   "outputs": [
    {
     "name": "stdout",
     "output_type": "stream",
     "text": [
      "_________________________________________________________________\n",
      "Layer (type)                 Output Shape              Param #   \n",
      "=================================================================\n",
      "conv2d_4 (Conv2D)            (None, 28, 28, 32)        320       \n",
      "_________________________________________________________________\n",
      "max_pooling2d_3 (MaxPooling2 (None, 14, 14, 32)        0         \n",
      "_________________________________________________________________\n",
      "conv2d_5 (Conv2D)            (None, 14, 14, 64)        18496     \n",
      "_________________________________________________________________\n",
      "max_pooling2d_4 (MaxPooling2 (None, 7, 7, 64)          0         \n",
      "_________________________________________________________________\n",
      "conv2d_6 (Conv2D)            (None, 7, 7, 64)          36928     \n",
      "_________________________________________________________________\n",
      "flatten_2 (Flatten)          (None, 3136)              0         \n",
      "_________________________________________________________________\n",
      "dense_3 (Dense)              (None, 64)                200768    \n",
      "_________________________________________________________________\n",
      "dense_4 (Dense)              (None, 25)                1625      \n",
      "=================================================================\n",
      "Total params: 258,137\n",
      "Trainable params: 258,137\n",
      "Non-trainable params: 0\n",
      "_________________________________________________________________\n"
     ]
    }
   ],
   "source": [
    "classifier.summary()"
   ]
  },
  {
   "cell_type": "code",
   "execution_count": 16,
   "metadata": {},
   "outputs": [
    {
     "data": {
      "text/plain": [
       "(25,)"
      ]
     },
     "execution_count": 16,
     "metadata": {},
     "output_type": "execute_result"
    }
   ],
   "source": [
    "y_train[0].shape"
   ]
  },
  {
   "cell_type": "code",
   "execution_count": 18,
   "metadata": {},
   "outputs": [],
   "source": [
    "from keras.callbacks import TensorBoard\n",
    "\n",
    "tensorboard = TensorBoard(log_dir = 'logs/SLR classifier')"
   ]
  },
  {
   "cell_type": "code",
   "execution_count": null,
   "metadata": {},
   "outputs": [],
   "source": []
  },
  {
   "cell_type": "code",
   "execution_count": 19,
   "metadata": {},
   "outputs": [
    {
     "name": "stdout",
     "output_type": "stream",
     "text": [
      "WARNING:tensorflow:From c:\\users\\meeta\\appdata\\local\\programs\\python\\python37\\lib\\site-packages\\tensorflow\\python\\ops\\math_ops.py:3066: to_int32 (from tensorflow.python.ops.math_ops) is deprecated and will be removed in a future version.\n",
      "Instructions for updating:\n",
      "Use tf.cast instead.\n",
      "Epoch 1/4\n",
      "27455/27455 [==============================] - 41s 1ms/step - loss: 1.3582 - acc: 0.5836\n",
      "Epoch 2/4\n",
      "27455/27455 [==============================] - 41s 1ms/step - loss: 0.1556 - acc: 0.9526\n",
      "Epoch 3/4\n",
      "27455/27455 [==============================] - 38s 1ms/step - loss: 0.0285 - acc: 0.9945\n",
      "Epoch 4/4\n",
      "27455/27455 [==============================] - 39s 1ms/step - loss: 0.0095 - acc: 0.9989\n"
     ]
    },
    {
     "data": {
      "text/plain": [
       "<keras.callbacks.History at 0x1b91a19fd68>"
      ]
     },
     "execution_count": 19,
     "metadata": {},
     "output_type": "execute_result"
    }
   ],
   "source": [
    "classifier.fit(x_train, y_train, batch_size = 100, epochs = 4, callbacks = [tensorboard])"
   ]
  },
  {
   "cell_type": "code",
   "execution_count": 33,
   "metadata": {},
   "outputs": [
    {
     "name": "stderr",
     "output_type": "stream",
     "text": [
      "c:\\users\\meeta\\appdata\\local\\programs\\python\\python37\\lib\\site-packages\\sklearn\\externals\\joblib\\__init__.py:15: DeprecationWarning: sklearn.externals.joblib is deprecated in 0.21 and will be removed in 0.23. Please import this functionality directly from joblib, which can be installed with: pip install joblib. If this warning is raised when loading pickled models, you may need to re-serialize those models with scikit-learn 0.21+.\n",
      "  warnings.warn(msg, category=DeprecationWarning)\n"
     ]
    },
    {
     "data": {
      "text/plain": [
       "['saved_classifier.pkl']"
      ]
     },
     "execution_count": 33,
     "metadata": {},
     "output_type": "execute_result"
    }
   ],
   "source": [
    "# from sklearn.externals import joblib\n",
    "# joblib.dump(classifier, 'saved_classifier.pkl')"
   ]
  },
  {
   "cell_type": "code",
   "execution_count": 26,
   "metadata": {},
   "outputs": [],
   "source": [
    "y_prediction = classifier.predict(x_test)"
   ]
  },
  {
   "cell_type": "code",
   "execution_count": 30,
   "metadata": {},
   "outputs": [
    {
     "data": {
      "text/plain": [
       "array([[3.29407738e-17, 6.67487604e-13, 6.17939264e-08, 2.29607583e-11,\n",
       "        2.02390218e-17, 3.12468135e-10, 9.99999881e-01, 7.89398148e-12,\n",
       "        8.05900730e-18, 8.12791494e-26, 5.13220109e-14, 3.13756061e-08,\n",
       "        8.41050115e-17, 1.36352138e-10, 3.36344783e-08, 2.19907263e-16,\n",
       "        5.14869787e-12, 3.79356114e-15, 6.66723477e-15, 2.32878694e-09,\n",
       "        8.52904038e-14, 4.57920485e-13, 3.39391906e-14, 1.06968503e-10,\n",
       "        5.55839879e-13],\n",
       "       [1.46923561e-15, 4.39657888e-04, 1.02128870e-13, 3.14914291e-06,\n",
       "        2.34751774e-08, 9.99515176e-01, 3.17689972e-12, 4.62092397e-20,\n",
       "        2.69149268e-07, 7.60722527e-29, 7.24466154e-10, 1.57662744e-10,\n",
       "        1.49197599e-09, 2.45448051e-10, 5.14151265e-12, 6.94832429e-12,\n",
       "        3.04834685e-10, 9.86527483e-13, 1.93175038e-06, 5.22637649e-08,\n",
       "        1.75827335e-08, 4.43766864e-11, 3.97917574e-05, 2.56277422e-09,\n",
       "        1.05704941e-13],\n",
       "       [1.80803106e-27, 5.10663083e-12, 2.05226720e-24, 5.74841906e-05,\n",
       "        1.43605404e-20, 2.93493806e-11, 6.75718998e-16, 6.27898492e-24,\n",
       "        2.16735701e-13, 5.81514979e-27, 9.68790889e-01, 7.94413602e-09,\n",
       "        9.52490799e-17, 1.90401995e-16, 7.21125302e-26, 7.78144042e-12,\n",
       "        5.10160536e-09, 3.08732297e-02, 5.73019188e-09, 1.15775065e-13,\n",
       "        6.09279923e-05, 2.17274137e-04, 2.09185458e-07, 5.16194986e-12,\n",
       "        1.74122411e-10],\n",
       "       [9.99983311e-01, 1.62960528e-21, 5.60475941e-15, 4.98852464e-26,\n",
       "        6.12269488e-08, 9.97958750e-18, 3.04853147e-24, 4.86827739e-21,\n",
       "        1.35070721e-09, 0.00000000e+00, 6.33349514e-34, 9.81247068e-33,\n",
       "        1.64187968e-05, 1.76319247e-07, 6.14607445e-15, 7.78058063e-29,\n",
       "        3.62743029e-20, 2.78830522e-32, 2.07589945e-08, 3.70973399e-17,\n",
       "        6.78189745e-20, 1.41638873e-19, 2.85246074e-15, 3.93607544e-23,\n",
       "        1.18654323e-18],\n",
       "       [6.12875024e-29, 8.03493450e-09, 9.21203114e-23, 9.82783675e-01,\n",
       "        1.77095739e-22, 2.11237072e-18, 1.42916567e-10, 1.77322231e-14,\n",
       "        1.34725046e-14, 2.59090324e-28, 1.55881111e-07, 1.44855328e-08,\n",
       "        1.98372575e-15, 5.59024615e-12, 3.06288441e-21, 2.95286439e-18,\n",
       "        2.42538184e-10, 1.72150787e-02, 1.56471936e-11, 3.13618607e-15,\n",
       "        9.58272949e-07, 1.87424277e-07, 8.66382324e-13, 1.66245737e-08,\n",
       "        3.84536939e-13]], dtype=float32)"
      ]
     },
     "execution_count": 30,
     "metadata": {},
     "output_type": "execute_result"
    }
   ],
   "source": [
    "y_prediction[:5]"
   ]
  },
  {
   "cell_type": "code",
   "execution_count": 21,
   "metadata": {},
   "outputs": [
    {
     "name": "stdout",
     "output_type": "stream",
     "text": [
      "2\n"
     ]
    },
    {
     "data": {
      "image/png": "[encoded data removed]",
      "text/plain": [
       "<Figure size 432x288 with 1 Axes>"
      ]
     },
     "metadata": {
      "needs_background": "light"
     },
     "output_type": "display_data"
    }
   ],
   "source": [
    "import matplotlib.pyplot as plt\n",
    "LOC = 20\n",
    "sample = x_test[LOC]\n",
    "plt.imshow(sample.reshape((28,28)))\n",
    "lbl = y_test[LOC]\n",
    "print(list(lbl).index(1))"
   ]
  },
  {
   "cell_type": "code",
   "execution_count": 22,
   "metadata": {},
   "outputs": [
    {
     "name": "stdout",
     "output_type": "stream",
     "text": [
      "[1.5401208e-24, 5.107733e-16, 0.99999976, 2.5427492e-31, 8.062581e-16, 9.8662856e-11, 1.3991978e-15, 1.0495614e-33, 7.359502e-34, 0.0, 0.0, 2.2563282e-09, 4.0845395e-19, 1.1016347e-20, 1.948517e-07, 1.0003945e-34, 1.4730906e-31, 2.2220498e-32, 3.104741e-23, 1.4609001e-19, 6.798345e-30, 8.297531e-32, 7.449474e-24, 1.1634812e-15, 2.4633596e-32]\n"
     ]
    }
   ],
   "source": [
    "sample = sample.reshape((1,28,28,1))\n",
    "res = classifier.predict(sample)\n",
    "res = list(res[0])\n",
    "print(res)"
   ]
  },
  {
   "cell_type": "code",
   "execution_count": 23,
   "metadata": {},
   "outputs": [
    {
     "name": "stdout",
     "output_type": "stream",
     "text": [
      "2\n"
     ]
    }
   ],
   "source": [
    "mx = max(res)\n",
    "print(res.index(mx))"
   ]
  },
  {
   "cell_type": "code",
   "execution_count": null,
   "metadata": {},
   "outputs": [],
   "source": []
  }
 ],
 "metadata": {
  "kernelspec": {
   "display_name": "Python 3",
   "language": "python",
   "name": "python3"
  },
  "language_info": {
   "codemirror_mode": {
    "name": "ipython",
    "version": 3
   },
   "file_extension": ".py",
   "mimetype": "text/x-python",
   "name": "python",
   "nbconvert_exporter": "python",
   "pygments_lexer": "ipython3",
   "version": "3.7.3"
  }
 },
 "nbformat": 4,
 "nbformat_minor": 2
}
