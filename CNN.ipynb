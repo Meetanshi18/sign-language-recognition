{
 "cells": [
  {
   "cell_type": "code",
   "execution_count": 9,
   "metadata": {},
   "outputs": [
    {
     "name": "stdout",
     "output_type": "stream",
     "text": [
      "Training examples: 27455\n",
      "Test examples: 7172\n",
      "X_train shape\" (27455, 28, 28)\n",
      "y_train shape\" (27455, 26)\n",
      "X_test shape\" (7172, 28, 28)\n",
      "y_test shape\" (7172, 26)\n",
      "(27455, 28, 28, 1)\n"
     ]
    }
   ],
   "source": [
    "import pandas as pd\n",
    "import numpy as np\n",
    "\n",
    "train = pd.read_csv('C:/Users/meeta/Desktop/TSWE2019/sign-language-recognition/dataset/sign_mnist_train.csv', header = 0)\n",
    "test = pd.read_csv('C:/Users/meeta/Desktop/TSWE2019/sign-language-recognition/dataset/sign_mnist_test.csv', header = 0)\n",
    "\n",
    "y_train = train['label'].values\n",
    "y_test = test['label'].values\n",
    "\n",
    "x_train = train.drop(['label'],axis=1)\n",
    "x_test = test.drop(['label'], axis=1)\n",
    "\n",
    "x_train = np.array(x_train.iloc[:,:])\n",
    "# print(x_train[:5])\n",
    "x_train = np.array([np.reshape(i, (28, 28)) for i in x_train])\n",
    "\n",
    "x_test = np.array(x_test.iloc[:,:])\n",
    "x_test = np.array([np.reshape(i, (28, 28)) for i in x_test])\n",
    "# print(x_test[0])\n",
    "\n",
    "num_classes = 26\n",
    "# print(y_train.shape)\n",
    "y_train = np.array(y_train).reshape(-1)\n",
    "y_test = np.array(y_test).reshape(-1)\n",
    "# print(y_train.shape)\n",
    "\n",
    "y_train = np.eye(num_classes)[y_train]\n",
    "y_test = np.eye(num_classes)[y_test]\n",
    "\n",
    "print('Training examples:',x_train.shape[0])\n",
    "print('Test examples:',x_test.shape[0])\n",
    "\n",
    "print('X_train shape\"',x_train.shape)\n",
    "print('y_train shape\"',y_train.shape)\n",
    "print('X_test shape\"',x_test.shape)\n",
    "print('y_test shape\"',y_test.shape)\n",
    "\n",
    "x_train = x_train.reshape((27455, 28, 28, 1))\n",
    "x_test = x_test.reshape((7172, 28, 28, 1))\n",
    "\n",
    "print(x_train.shape)"
   ]
  },
  {
   "cell_type": "code",
   "execution_count": 10,
   "metadata": {},
   "outputs": [],
   "source": [
    "from keras.models import Sequential\n",
    "from keras.layers import Convolution2D\n",
    "from keras.layers import MaxPooling2D\n",
    "from keras.layers import Flatten\n",
    "from keras.layers import Dense\n",
    "from IPython.display import SVG\n",
    "from keras.utils.vis_utils import model_to_dot\n",
    "import pydot"
   ]
  },
  {
   "cell_type": "code",
   "execution_count": 11,
   "metadata": {},
   "outputs": [],
   "source": [
    "def model():\n",
    "    classifier = Sequential()\n",
    "    classifier.add(Convolution2D(filters = 8, kernel_size = (3,3), strides = (1,1), padding = 'same', input_shape=(28,28,1), activation='relu', data_format='channels_last'))\n",
    "    classifier.add(MaxPooling2D(pool_size = (2,2)))\n",
    "    classifier.add(Convolution2D(filters=16, kernel_size=(3,3),strides=(1,1),padding='same',activation='relu'))\n",
    "    classifier.add(MaxPooling2D(pool_size=(4,4)))\n",
    "    classifier.add(Flatten())\n",
    "    classifier.add(Dense(128, activation='relu'))\n",
    "    classifier.add(Dense(26, activation='sigmoid'))\n",
    "    classifier.compile(optimizer='adam', loss='categorical_crossentropy', metrics=['accuracy'])\n",
    "    return classifier\n",
    "    "
   ]
  },
  {
   "cell_type": "code",
   "execution_count": 12,
   "metadata": {},
   "outputs": [],
   "source": [
    "classifier = model()"
   ]
  },
  {
   "cell_type": "code",
   "execution_count": 13,
   "metadata": {},
   "outputs": [
    {
     "name": "stdout",
     "output_type": "stream",
     "text": [
      "_________________________________________________________________\n",
      "Layer (type)                 Output Shape              Param #   \n",
      "=================================================================\n",
      "conv2d_3 (Conv2D)            (None, 28, 28, 8)         80        \n",
      "_________________________________________________________________\n",
      "max_pooling2d_3 (MaxPooling2 (None, 14, 14, 8)         0         \n",
      "_________________________________________________________________\n",
      "conv2d_4 (Conv2D)            (None, 14, 14, 16)        1168      \n",
      "_________________________________________________________________\n",
      "max_pooling2d_4 (MaxPooling2 (None, 3, 3, 16)          0         \n",
      "_________________________________________________________________\n",
      "flatten_2 (Flatten)          (None, 144)               0         \n",
      "_________________________________________________________________\n",
      "dense_3 (Dense)              (None, 128)               18560     \n",
      "_________________________________________________________________\n",
      "dense_4 (Dense)              (None, 26)                3354      \n",
      "=================================================================\n",
      "Total params: 23,162\n",
      "Trainable params: 23,162\n",
      "Non-trainable params: 0\n",
      "_________________________________________________________________\n"
     ]
    }
   ],
   "source": [
    "classifier.summary()"
   ]
  },
  {
   "cell_type": "code",
   "execution_count": 14,
   "metadata": {},
   "outputs": [
    {
     "data": {
      "text/plain": [
       "(26,)"
      ]
     },
     "execution_count": 14,
     "metadata": {},
     "output_type": "execute_result"
    }
   ],
   "source": [
    "y_train[0].shape"
   ]
  },
  {
   "cell_type": "code",
   "execution_count": 15,
   "metadata": {},
   "outputs": [
    {
     "name": "stdout",
     "output_type": "stream",
     "text": [
      "Epoch 1/10\n",
      "27455/27455 [==============================] - 11s 393us/step - loss: 6.7128 - acc: 0.0420\n",
      "Epoch 2/10\n",
      "27455/27455 [==============================] - 10s 371us/step - loss: 6.6713 - acc: 0.0417\n",
      "Epoch 3/10\n",
      "27455/27455 [==============================] - 10s 374us/step - loss: 6.6713 - acc: 0.0417\n",
      "Epoch 4/10\n",
      "27455/27455 [==============================] - 11s 403us/step - loss: 6.6713 - acc: 0.0417\n",
      "Epoch 5/10\n",
      "27455/27455 [==============================] - 11s 389us/step - loss: 6.6713 - acc: 0.0417\n",
      "Epoch 6/10\n",
      "27455/27455 [==============================] - 11s 391us/step - loss: 6.6713 - acc: 0.0417\n",
      "Epoch 7/10\n",
      "27455/27455 [==============================] - 11s 396us/step - loss: 6.6713 - acc: 0.0417\n",
      "Epoch 8/10\n",
      "27455/27455 [==============================] - 11s 395us/step - loss: 6.6734 - acc: 0.0417\n",
      "Epoch 9/10\n",
      "27455/27455 [==============================] - 11s 400us/step - loss: 6.6713 - acc: 0.0417\n",
      "Epoch 10/10\n",
      "27455/27455 [==============================] - 11s 393us/step - loss: 6.6713 - acc: 0.0417\n"
     ]
    },
    {
     "data": {
      "text/plain": [
       "<keras.callbacks.History at 0x17720f26978>"
      ]
     },
     "execution_count": 15,
     "metadata": {},
     "output_type": "execute_result"
    }
   ],
   "source": [
    "classifier.fit(x_train, y_train, batch_size = 100, epochs = 10)"
   ]
  },
  {
   "cell_type": "code",
   "execution_count": 21,
   "metadata": {},
   "outputs": [],
   "source": [
    "y_prediction = classifier.predict(x_test)"
   ]
  },
  {
   "cell_type": "code",
   "execution_count": 23,
   "metadata": {},
   "outputs": [
    {
     "data": {
      "text/plain": [
       "array([2, 2, 2, ..., 2, 2, 2], dtype=int64)"
      ]
     },
     "execution_count": 23,
     "metadata": {},
     "output_type": "execute_result"
    }
   ],
   "source": [
    "y_prediction"
   ]
  },
  {
   "cell_type": "code",
   "execution_count": null,
   "metadata": {},
   "outputs": [],
   "source": [
    "y_prediction = np.argmax(y_prediction, axis = 1)"
   ]
  },
  {
   "cell_type": "code",
   "execution_count": null,
   "metadata": {},
   "outputs": [],
   "source": []
  }
 ],
 "metadata": {
  "kernelspec": {
   "display_name": "Python 3",
   "language": "python",
   "name": "python3"
  },
  "language_info": {
   "codemirror_mode": {
    "name": "ipython",
    "version": 3
   },
   "file_extension": ".py",
   "mimetype": "text/x-python",
   "name": "python",
   "nbconvert_exporter": "python",
   "pygments_lexer": "ipython3",
   "version": "3.7.3"
  }
 },
 "nbformat": 4,
 "nbformat_minor": 2
}
